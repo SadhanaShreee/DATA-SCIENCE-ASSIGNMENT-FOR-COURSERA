{
  "metadata": {
    "kernelspec": {
      "name": "python",
      "display_name": "Python (Pyodide)",
      "language": "python"
    },
    "language_info": {
      "codemirror_mode": {
        "name": "python",
        "version": 3
      },
      "file_extension": ".py",
      "mimetype": "text/x-python",
      "name": "python",
      "nbconvert_exporter": "python",
      "pygments_lexer": "ipython3",
      "version": "3.8"
    }
  },
  "nbformat_minor": 4,
  "nbformat": 4,
  "cells": [
    {
      "cell_type": "markdown",
      "source": "**Data Science Final Assignment**\n================================",
      "metadata": {}
    },
    {
      "cell_type": "markdown",
      "source": "### Data science is a way to get useful information from data. It uses computers and statistics to find patterns and meaning in data. The goal is to make good decisions and solve problems by understanding data.",
      "metadata": {}
    },
    {
      "cell_type": "markdown",
      "source": "**Data Science Languages**\n==========================\n\n* **Python**: Most popular language used in data science for its simplicity and versatility.\n* **R**: Widely used for statistical computing and data visualization.\n* **SQL**: Used for managing and querying large datasets.\n* **Julia**: A new language gaining popularity for its high performance and dynamism.\n* **MATLAB**: Used for numerical computation and data analysis.",
      "metadata": {}
    },
    {
      "cell_type": "markdown",
      "source": "**Data Science Libraries**\n==========================\n\n* **1.NumPy**: A library for efficient numerical computation in Python.\n* **2.Pandas**: A library for data manipulation and analysis in Python.\n* **3.Scikit-learn**: A machine learning library for Python that provides various algorithms for classification, regression, clustering, and more.\n* **4.TensorFlow**: An open-source machine learning library developed by Google.\n* **5.Keras**: A high-level neural networks API for Python.\n* **6.Matplotlib**: A plotting library for creating static, animated, and interactive visualizations in Python.\n* **7.Seaborn**: A visualization library based on matplotlib that provides a high-level interface for drawing attractive and informative statistical graphics.",
      "metadata": {}
    },
    {
      "cell_type": "markdown",
      "source": "**Data Science Tools**\n==========================\n\n| **Tool** | **Description** | **Category** |\n| --- | --- | --- |\n| Jupyter Notebook | Interactive environment for data exploration and visualization | IDE |\n| Git | Version control system for tracking changes in code | Version Control |\n| Excel | Spreadsheet software for data analysis and visualization | Spreadsheet |\n| Tableau | Data visualization tool for creating interactive dashboards | Visualization |\n| Power BI | Business analytics service for data visualization and business intelligence | Visualization |\n| Apache Spark | Unified analytics engine for large-scale data processing | Big Data |\n| Hadoop | Distributed computing framework for storing and processing large datasets | Big Data |\n| AWS S3 | Cloud-based object storage for storing and retrieving large datasets | Cloud Storage |\n| Google Colab | Cloud-based platform for data science and machine learning | Cloud Platform |\n| Kaggle | Platform for data science competitions and hosting datasets | Community |",
      "metadata": {}
    },
    {
      "cell_type": "markdown",
      "source": "**Arithmetic Expression Examples**\n================================\n\nArithmetic expressions are used to perform mathematical operations on numbers and variables. Here are some examples:\n\n### Simple Expressions\n\n* `2 + 3` = 5\n* `5 - 2` = 3\n* `4 * 6` = 24\n* `8 / 2` = 4\n\n### Expressions with Variables\n\n* `x + 7` (where `x` is a variable)\n* `y - 9` (where `y` is a variable)\n* `6z` (where `z` is a variable)\n* `a / 2` (where `a` is a variable)\n\n### Expressions with Multiple Operations\n\n* `2 + 3 * 4` = 14 (follows order of operations: multiplication then addition)\n* `(5 - 2) + 1` = 4 (follows order of operations: parentheses then addition)\n* `10 / 2 + 1` = 6 (follows order of operations: division then addition)\n\n",
      "metadata": {}
    },
    {
      "cell_type": "code",
      "source": "# Define two numbers\nnum1 = 5\nnum2 = 3\n\n# Multiply the numbers\nproduct = num1 * num2\n\n# Add 5 to the product\nresult = product + 5\n\n# Print the result\nprint(\"The result is:\", result)",
      "metadata": {
        "trusted": true
      },
      "outputs": [
        {
          "name": "stdout",
          "text": "The result is: 20\n",
          "output_type": "stream"
        }
      ],
      "execution_count": 1
    },
    {
      "cell_type": "code",
      "source": "# Define the number of minutes\nminutes = 120\n\n# Convert minutes to hours\nhours = minutes / 60\n\n# Print the result\nprint(\"The time in hours is:\", hours)",
      "metadata": {
        "trusted": true
      },
      "outputs": [
        {
          "name": "stdout",
          "text": "The time in hours is: 2.0\n",
          "output_type": "stream"
        }
      ],
      "execution_count": 2
    },
    {
      "cell_type": "markdown",
      "source": "**Objectives**\n* Convert minutes to hours\n* Perform arithmetic operations (multiply and add)\n* Provide clear and concise code explanations",
      "metadata": {}
    },
    {
      "cell_type": "markdown",
      "source": "**Author**\n==========================\nSADHANA SHREE B",
      "metadata": {}
    },
    {
      "cell_type": "code",
      "source": "!git init",
      "metadata": {
        "trusted": true
      },
      "outputs": [
        {
          "ename": "<class 'OSError'>",
          "evalue": "Not available",
          "traceback": [
            "\u001b[0;31m---------------------------------------------------------------------------\u001b[0m",
            "\u001b[0;31mOSError\u001b[0m                                   Traceback (most recent call last)",
            "Cell \u001b[0;32mIn[3], line 1\u001b[0m\n\u001b[0;32m----> 1\u001b[0m \u001b[43mget_ipython\u001b[49m\u001b[43m(\u001b[49m\u001b[43m)\u001b[49m\u001b[38;5;241;43m.\u001b[39;49m\u001b[43msystem\u001b[49m\u001b[43m(\u001b[49m\u001b[38;5;124;43m'\u001b[39;49m\u001b[38;5;124;43mgit init\u001b[39;49m\u001b[38;5;124;43m'\u001b[39;49m\u001b[43m)\u001b[49m\n",
            "File \u001b[0;32m/lib/python3.12/site-packages/IPython/core/interactiveshell.py:2653\u001b[0m, in \u001b[0;36mInteractiveShell.system_piped\u001b[0;34m(self, cmd)\u001b[0m\n\u001b[1;32m   2648\u001b[0m     \u001b[38;5;28;01mraise\u001b[39;00m \u001b[38;5;167;01mOSError\u001b[39;00m(\u001b[38;5;124m\"\u001b[39m\u001b[38;5;124mBackground processes not supported.\u001b[39m\u001b[38;5;124m\"\u001b[39m)\n\u001b[1;32m   2650\u001b[0m \u001b[38;5;66;03m# we explicitly do NOT return the subprocess status code, because\u001b[39;00m\n\u001b[1;32m   2651\u001b[0m \u001b[38;5;66;03m# a non-None value would trigger :func:`sys.displayhook` calls.\u001b[39;00m\n\u001b[1;32m   2652\u001b[0m \u001b[38;5;66;03m# Instead, we store the exit_code in user_ns.\u001b[39;00m\n\u001b[0;32m-> 2653\u001b[0m \u001b[38;5;28mself\u001b[39m\u001b[38;5;241m.\u001b[39muser_ns[\u001b[38;5;124m'\u001b[39m\u001b[38;5;124m_exit_code\u001b[39m\u001b[38;5;124m'\u001b[39m] \u001b[38;5;241m=\u001b[39m \u001b[43msystem\u001b[49m\u001b[43m(\u001b[49m\u001b[38;5;28;43mself\u001b[39;49m\u001b[38;5;241;43m.\u001b[39;49m\u001b[43mvar_expand\u001b[49m\u001b[43m(\u001b[49m\u001b[43mcmd\u001b[49m\u001b[43m,\u001b[49m\u001b[43m \u001b[49m\u001b[43mdepth\u001b[49m\u001b[38;5;241;43m=\u001b[39;49m\u001b[38;5;241;43m1\u001b[39;49m\u001b[43m)\u001b[49m\u001b[43m)\u001b[49m\n",
            "File \u001b[0;32m/lib/python3.12/site-packages/IPython/utils/_process_emscripten.py:11\u001b[0m, in \u001b[0;36msystem\u001b[0;34m(cmd)\u001b[0m\n\u001b[1;32m     10\u001b[0m \u001b[38;5;28;01mdef\u001b[39;00m \u001b[38;5;21msystem\u001b[39m(cmd):\n\u001b[0;32m---> 11\u001b[0m     \u001b[38;5;28;01mraise\u001b[39;00m \u001b[38;5;167;01mOSError\u001b[39;00m(\u001b[38;5;124m\"\u001b[39m\u001b[38;5;124mNot available\u001b[39m\u001b[38;5;124m\"\u001b[39m)\n",
            "\u001b[0;31mOSError\u001b[0m: Not available"
          ],
          "output_type": "error"
        }
      ],
      "execution_count": 3
    }
  ]
}